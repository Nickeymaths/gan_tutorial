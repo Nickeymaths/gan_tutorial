{
 "cells": [
  {
   "cell_type": "code",
   "execution_count": 1,
   "metadata": {},
   "outputs": [],
   "source": [
    "import pickle as pkl\n",
    "import model\n",
    "import numpy as np\n",
    "import torch\n",
    "import torch.nn as nn\n",
    "import matplotlib.pyplot as plt\n",
    "from torchvision import datasets\n",
    "import torchvision.transforms as tt"
   ]
  },
  {
   "cell_type": "code",
   "execution_count": 2,
   "metadata": {},
   "outputs": [
    {
     "name": "stdout",
     "output_type": "stream",
     "text": [
      "cuda\n"
     ]
    }
   ],
   "source": [
    "device = 'cuda' if torch.cuda.is_available() else 'cpu'\n",
    "print(device)\n",
    "dataset_name = 'MNIST'\n",
    "labels_map = {\n",
    "    0: \"0\",\n",
    "    1: \"1\",\n",
    "    2: \"2\",\n",
    "    3: \"3\",\n",
    "    4: \"4\",\n",
    "    5: \"5\",\n",
    "    6: \"6\",\n",
    "    7: \"7\",\n",
    "    8: \"8\",\n",
    "    9: \"9\",\n",
    "} if dataset_name == 'MNIST' else {\n",
    "    0: \"T-Shirt\",\n",
    "    1: \"Trouser\",\n",
    "    2: \"Pullover\",\n",
    "    3: \"Dress\",\n",
    "    4: \"Coat\",\n",
    "    5: \"Sandal\",\n",
    "    6: \"Shirt\",\n",
    "    7: \"Sneaker\",\n",
    "    8: \"Bag\",\n",
    "    9: \"Ankle Boot\",\n",
    "}\n",
    "n_class = 10\n",
    "\n",
    "\n",
    "class Discriminator(nn.Module):\n",
    "    def __init__(self):\n",
    "        super().__init__()\n",
    "        self.features = self.make_feature()\n",
    "        self.classifier = nn.Sequential(\n",
    "            nn.Linear(128, 1),\n",
    "            nn.Sigmoid()\n",
    "        )\n",
    "\n",
    "    def make_feature(self):\n",
    "        c_in = 28 * 28\n",
    "        config = [512, 256, 128]\n",
    "        layers = []\n",
    "        for i in range(len(config)):\n",
    "            layers += [nn.Linear(c_in, config[i]), nn.LeakyReLU(negative_slope=0.2), nn.Dropout(p=0.3)]\n",
    "            c_in = config[i]\n",
    "        return nn.Sequential(*layers)\n",
    "\n",
    "    def forward(self, x):\n",
    "        x = x.view(x.size(0), -1)\n",
    "        out = self.features(x)\n",
    "        out = self.classifier(out)\n",
    "        return out\n",
    "\n",
    "\n",
    "class Generator(nn.Module):\n",
    "    def __init__(self):\n",
    "        super().__init__()\n",
    "        self.features = self.make_feature()\n",
    "        self.out = nn.Sequential(\n",
    "            nn.Linear(512, 28 * 28),\n",
    "            nn.Tanh(),\n",
    "        )\n",
    "\n",
    "    def make_feature(self):\n",
    "        c_in = 100\n",
    "        config = [128, 256, 512]\n",
    "        layers = []\n",
    "        for i in range(len(config)):\n",
    "            layers += [nn.Linear(c_in, config[i]), nn.LeakyReLU(negative_slope=0.2), nn.Dropout(p=0.3)]\n",
    "            c_in = config[i]\n",
    "        return nn.Sequential(*layers)\n",
    "\n",
    "    def forward(self, z):\n",
    "        out = self.features(z)\n",
    "        out = self.out(out).view(z.size(0), 28, 28)\n",
    "        return out\n",
    "\n",
    "class KDE(nn.Module):\n",
    "    def __init__(self, samples):\n",
    "        self.samples = samples\n",
    "#         self.H = np.eye(samples.shape[1])\n",
    "        self.H = self.estimate_H()\n",
    "        self.H_inv = self.H.copy()\n",
    "        self.H_inv[self.H != 0] = 1/self.H[self.H != 0]\n",
    "    \n",
    "    def probability(self, tests):\n",
    "        tests = tests.copy()\n",
    "        samples = self.samples.copy()\n",
    "        dim = tests.shape[1]\n",
    "        n_tests = tests.shape[0]\n",
    "        n_samples = samples.shape[0]\n",
    "        tests = np.expand_dims(tests, axis=0).transpose((0, 2, 1))\n",
    "        samples = np.expand_dims(samples, axis=2)\n",
    "        \n",
    "        delta = tests - samples\n",
    "        M = np.array([np.diag(-1./2*delta[i].T@self.H_inv@delta[i]) for i in range(delta.shape[0])])\n",
    "        M_max = M.max(axis=0, keepdims=True)\n",
    "        M = M - M_max\n",
    "        # Estimatation of log likelihood missing (2pi)^(d/2) but have no effection to result\n",
    "        probs = np.log(np.sum(np.exp(M), axis=0)) + M_max.squeeze() - np.log(n_samples)\n",
    "        return -probs\n",
    "    \n",
    "    def estimate_H(self):\n",
    "        n, dim = self.samples.shape\n",
    "        std = np.std(self.samples, axis=0)\n",
    "        H = n**(-1/(dim+4))*np.diag(std)**2\n",
    "        print(H)\n",
    "        return H"
   ]
  },
  {
   "cell_type": "code",
   "execution_count": 3,
   "metadata": {},
   "outputs": [],
   "source": [
    "with open('./model/gan/discriminator.sav', 'rb') as d_file:\n",
    "    discriminator = pkl.load(d_file)\n",
    "with open('./model/gan/generator.sav', 'rb') as g_file:\n",
    "    generator = pkl.load(g_file)"
   ]
  },
  {
   "cell_type": "code",
   "execution_count": 4,
   "metadata": {},
   "outputs": [
    {
     "name": "stdout",
     "output_type": "stream",
     "text": [
      "[[2.51493906e-03 0.00000000e+00 0.00000000e+00 ... 0.00000000e+00\n",
      "  0.00000000e+00 0.00000000e+00]\n",
      " [0.00000000e+00 1.01665384e-04 0.00000000e+00 ... 0.00000000e+00\n",
      "  0.00000000e+00 0.00000000e+00]\n",
      " [0.00000000e+00 0.00000000e+00 3.12658609e-04 ... 0.00000000e+00\n",
      "  0.00000000e+00 0.00000000e+00]\n",
      " ...\n",
      " [0.00000000e+00 0.00000000e+00 0.00000000e+00 ... 8.50942452e-05\n",
      "  0.00000000e+00 0.00000000e+00]\n",
      " [0.00000000e+00 0.00000000e+00 0.00000000e+00 ... 0.00000000e+00\n",
      "  7.34777946e-04 0.00000000e+00]\n",
      " [0.00000000e+00 0.00000000e+00 0.00000000e+00 ... 0.00000000e+00\n",
      "  0.00000000e+00 2.37608532e-04]]\n"
     ]
    },
    {
     "data": {
      "image/png": "[encoded data removed]",
      "text/plain": [
       "<Figure size 432x288 with 1 Axes>"
      ]
     },
     "metadata": {
      "needs_background": "light"
     },
     "output_type": "display_data"
    },
    {
     "data": {
      "image/png": "[encoded data removed]",
      "text/plain": [
       "<Figure size 1332x756 with 10 Axes>"
      ]
     },
     "metadata": {
      "needs_background": "light"
     },
     "output_type": "display_data"
    }
   ],
   "source": [
    "generator.eval().to('cpu')\n",
    "n_samples = 1000\n",
    "n_tests = 10\n",
    "\n",
    "z = torch.from_numpy(np.random.normal(0, 1, size=(n_samples, 100))).float()\n",
    "gen_img = generator(z).detach().numpy()\n",
    "kde = KDE(gen_img.reshape(n_samples, -1))\n",
    "z = torch.from_numpy(np.random.normal(0, 1, size=(n_tests, 100))).float()\n",
    "test_img = generator(z).detach().numpy()\n",
    "log_probs = kde.probability(test_img.reshape(n_tests, -1))\n",
    "\n",
    "fig1 = plt.figure()\n",
    "plt.plot(log_probs)\n",
    "plt.xlabel('Fig')\n",
    "plt.ylabel('Log(p)')\n",
    "fig2, axes = plt.subplots(1, n_tests)\n",
    "fig2.set_size_inches(18.5, 10.5)\n",
    "for i in range(n_tests):\n",
    "    axes[i].imshow(test_img[i])\n",
    "    axes[i].set_title('Fig{}'.format(i))\n",
    "    axes[i].axis(False)\n",
    "\n",
    "plt.show()"
   ]
  },
  {
   "cell_type": "code",
   "execution_count": null,
   "metadata": {},
   "outputs": [],
   "source": []
  }
 ],
 "metadata": {
  "kernelspec": {
   "display_name": "Python 3 (ipykernel)",
   "language": "python",
   "name": "python3"
  },
  "language_info": {
   "codemirror_mode": {
    "name": "ipython",
    "version": 3
   },
   "file_extension": ".py",
   "mimetype": "text/x-python",
   "name": "python",
   "nbconvert_exporter": "python",
   "pygments_lexer": "ipython3",
   "version": "3.9.7"
  }
 },
 "nbformat": 4,
 "nbformat_minor": 1
}